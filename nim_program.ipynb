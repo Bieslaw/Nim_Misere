{
 "cells": [
  {
   "cell_type": "code",
   "execution_count": 1,
   "id": "f7e89a5f",
   "metadata": {},
   "outputs": [],
   "source": [
    "import ipywidgets as widgets"
   ]
  },
  {
   "cell_type": "code",
   "execution_count": 2,
   "id": "03a3c0fe",
   "metadata": {},
   "outputs": [],
   "source": [
    "#Przykładowy wybór botów\n",
    "bot1_Select = widgets.Select(\n",
    "    options=['random', 'alfabeta', 'MCTS', 'inny MCTS'],\n",
    "    value='random',\n",
    "    description='bot 1:',\n",
    "    disabled=False\n",
    ")\n",
    "\n",
    "bot2_Select = widgets.Select(\n",
    "    options=['random', 'alfabeta', 'MCTS', 'inny MCTS'],\n",
    "    value='random',\n",
    "    description='bot 2:',\n",
    "    disabled=False\n",
    ")"
   ]
  },
  {
   "cell_type": "code",
   "execution_count": 3,
   "id": "32dcb049",
   "metadata": {},
   "outputs": [],
   "source": [
    "#Przykładowy wybór stanu początkowego\n",
    "stacks_values_widget = widgets.Text(\n",
    "    value=\"\",description='Wartości kolejnych stosów:',\n",
    "    placeholder='Np. 10 10 10',\n",
    "    style = {'description_width': 'initial'})"
   ]
  },
  {
   "cell_type": "code",
   "execution_count": 4,
   "id": "042ee9c6",
   "metadata": {},
   "outputs": [],
   "source": [
    "import random\n",
    "\n",
    "def random_move(stacks_values):\n",
    "    n = len(stacks_values)\n",
    "    while(True):\n",
    "        chosen_stack = random.randint(0, n-1)\n",
    "        if(stacks_values[chosen_stack] > 0):\n",
    "            val = random.randint(1, stacks_values[chosen_stack])\n",
    "            return chosen_stack,  val\n",
    "\n",
    "\n",
    "# Przykładowy przebieg rozgrywki\n",
    "def simulate_game():\n",
    "    stacks_values = list(map(int, stacks_values_widget.value.split()))\n",
    "    n = len(stacks_values)\n",
    "    empty_stack_counter = 0\n",
    "    player = 1\n",
    "    \n",
    "    if(bot1_Select.value == 'random'):\n",
    "        bot1_move = random_move\n",
    "    \n",
    "        \n",
    "    \n",
    "    if(bot2_Select.value == 'random'):\n",
    "        bot2_move = random_move\n",
    "    \n",
    "\n",
    "    while(True):\n",
    "        print(stacks_values)\n",
    "        if(player == 1):\n",
    "            chosen_stack,  val =  bot1_move(stacks_values)\n",
    "        else:\n",
    "            chosen_stack,  val =  bot2_move(stacks_values)\n",
    "        \n",
    "        print(\"Player\", player, \"take\", val, \"from stack\", chosen_stack)\n",
    "        stacks_values[chosen_stack] = stacks_values[chosen_stack] - val\n",
    "        if(stacks_values[chosen_stack] == 0):\n",
    "            empty_stack_counter =  empty_stack_counter+1\n",
    "        player = 1 if player == 2 else 2\n",
    "        if(empty_stack_counter == n):\n",
    "            print(\"Player\", player, \"wins\")\n",
    "            break\n",
    "\n",
    "    "
   ]
  },
  {
   "cell_type": "code",
   "execution_count": 5,
   "id": "c3f7d77e",
   "metadata": {},
   "outputs": [],
   "source": [
    "from IPython.display import clear_output\n",
    "\n",
    "#Przycisk startu\n",
    "\n",
    "button = widgets.Button(\n",
    "    description='Start',\n",
    ")\n",
    "\n",
    "output = widgets.Output()\n",
    "\n",
    "def on_button_clicked(b):\n",
    "    with output:\n",
    "        clear_output(wait=True)\n",
    "        simulate_game()\n",
    "\n",
    "button.on_click(on_button_clicked)"
   ]
  },
  {
   "cell_type": "code",
   "execution_count": 6,
   "id": "158d7cfd",
   "metadata": {},
   "outputs": [
    {
     "data": {
      "application/vnd.jupyter.widget-view+json": {
       "model_id": "e686f6d7bdf64d8995874242be1d62f7",
       "version_major": 2,
       "version_minor": 0
      },
      "text/plain": [
       "Select(description='bot 1:', options=('random', 'alfabeta', 'MCTS', 'inny MCTS'), value='random')"
      ]
     },
     "metadata": {},
     "output_type": "display_data"
    },
    {
     "data": {
      "application/vnd.jupyter.widget-view+json": {
       "model_id": "c014d4748da84f31b1d88fdc4ae0aacb",
       "version_major": 2,
       "version_minor": 0
      },
      "text/plain": [
       "Select(description='bot 2:', options=('random', 'alfabeta', 'MCTS', 'inny MCTS'), value='random')"
      ]
     },
     "metadata": {},
     "output_type": "display_data"
    },
    {
     "data": {
      "application/vnd.jupyter.widget-view+json": {
       "model_id": "8ee36fa965b341eba10046445b6a05ab",
       "version_major": 2,
       "version_minor": 0
      },
      "text/plain": [
       "Text(value='', description='Wartości kolejnych stosów:', placeholder='Np. 10 10 10', style=DescriptionStyle(de…"
      ]
     },
     "metadata": {},
     "output_type": "display_data"
    },
    {
     "data": {
      "application/vnd.jupyter.widget-view+json": {
       "model_id": "17b8a8609e6d47bf9e2c661222ea1da0",
       "version_major": 2,
       "version_minor": 0
      },
      "text/plain": [
       "Button(description='Start', style=ButtonStyle())"
      ]
     },
     "metadata": {},
     "output_type": "display_data"
    },
    {
     "data": {
      "application/vnd.jupyter.widget-view+json": {
       "model_id": "8e83528bc0c34a408b040b6d24cfad98",
       "version_major": 2,
       "version_minor": 0
      },
      "text/plain": [
       "Output()"
      ]
     },
     "metadata": {},
     "output_type": "display_data"
    }
   ],
   "source": [
    "display(bot1_Select)\n",
    "display(bot2_Select)\n",
    "\n",
    "display(stacks_values_widget)\n",
    "\n",
    "display(button, output)"
   ]
  },
  {
   "cell_type": "code",
   "execution_count": null,
   "id": "0e3f3563",
   "metadata": {},
   "outputs": [],
   "source": []
  }
 ],
 "metadata": {
  "kernelspec": {
   "display_name": "Python 3 (ipykernel)",
   "language": "python",
   "name": "python3"
  },
  "language_info": {
   "codemirror_mode": {
    "name": "ipython",
    "version": 3
   },
   "file_extension": ".py",
   "mimetype": "text/x-python",
   "name": "python",
   "nbconvert_exporter": "python",
   "pygments_lexer": "ipython3",
   "version": "3.10.9"
  }
 },
 "nbformat": 4,
 "nbformat_minor": 5
}
