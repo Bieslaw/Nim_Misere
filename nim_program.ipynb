{
 "cells": [
  {
   "cell_type": "code",
   "execution_count": 1,
   "id": "f7e89a5f",
   "metadata": {},
   "outputs": [],
   "source": [
    "import ipywidgets as widgets"
   ]
  },
  {
   "cell_type": "code",
   "execution_count": 2,
   "id": "03a3c0fe",
   "metadata": {},
   "outputs": [],
   "source": [
    "#Przykładowy wybór botów\n",
    "bot1_Select = widgets.Select(\n",
    "    options=['random', 'alfabeta', 'MCTS', 'inny MCTS'],\n",
    "    value='random',\n",
    "    description='bot 1:',\n",
    "    disabled=False\n",
    ")\n",
    "\n",
    "bot2_Select = widgets.Select(\n",
    "    options=['random', 'alfabeta', 'MCTS', 'inny MCTS'],\n",
    "    value='random',\n",
    "    description='bot 2:',\n",
    "    disabled=False\n",
    ")"
   ]
  },
  {
   "cell_type": "code",
   "execution_count": 3,
   "id": "32dcb049",
   "metadata": {},
   "outputs": [],
   "source": [
    "#Przykładowy wybór stanu początkowego\n",
    "stacks_values_widget = widgets.Text(\n",
    "    value=\"\",\n",
    "    description='Wartości kolejnych stosów:',\n",
    "    placeholder='Np. 10 10 10',\n",
    "    style = {'description_width': 'initial'})"
   ]
  },
  {
   "cell_type": "code",
   "execution_count": 4,
   "id": "36759de2",
   "metadata": {},
   "outputs": [],
   "source": [
    "#Przykładowy wybór czasu na ruch\n",
    "time_for_move_widget = widgets.FloatText(\n",
    "    value=2,\n",
    "    description='Czas na ruch w sekundach:',\n",
    "    style = {'description_width': 'initial'})"
   ]
  },
  {
   "cell_type": "code",
   "execution_count": 11,
   "id": "61bfaebc",
   "metadata": {},
   "outputs": [],
   "source": [
    "#Alpha beta algorytm\n",
    "import math\n",
    "import time\n",
    "\n",
    "def alphabeta_move(stacks_values, time_for_move):\n",
    "    start_time = time.time()\n",
    "    for i in range(1, sum(stacks_values) + 1):\n",
    "        stack, val = alphabeta_move_timed(stacks_values, i, start_time + time_for_move)\n",
    "        if(val > 0):\n",
    "            chosen_stack = stack\n",
    "            chosen_val = val\n",
    "        else:\n",
    "            break\n",
    "    return chosen_stack, chosen_val\n",
    "    \n",
    "def alphabeta_move_timed(stacks_values, depth, end_time):\n",
    "    max_temp = -math.inf\n",
    "    for stack in range(len(stacks_values)):\n",
    "        if(stacks_values[stack] > 0):\n",
    "            chosen_stack = stack\n",
    "            chosen_val = 1\n",
    "            break\n",
    "    for stack in range(len(stacks_values)):\n",
    "        for i in range(1, stacks_values[stack]+1):  \n",
    "            stacks_values[stack] =  stacks_values[stack] - i\n",
    "            temp = alphabeta_move2(stacks_values, depth, -math.inf, math.inf, -1, end_time)\n",
    "            stacks_values[stack] =  stacks_values[stack] + i\n",
    "            if(max_temp <= temp):\n",
    "                max_temp = temp\n",
    "                chosen_stack = stack\n",
    "                chosen_val = i\n",
    "            if(time.time() > end_time):\n",
    "                return 0, 0 \n",
    "    return chosen_stack, chosen_val\n",
    "    \n",
    "\n",
    "def alphabeta_move2(stacks_values, depth, alfa, beta, player, end_time):\n",
    "    if(time.time() > end_time):\n",
    "        return 0\n",
    "    n = len(stacks_values)\n",
    "    if stacks_values.count(0) == n:\n",
    "        if(player == 1):\n",
    "            return 1\n",
    "        else:\n",
    "            return -1\n",
    "    if(depth == 0):\n",
    "        return 0\n",
    "    if player == -1:\n",
    "        for stack in range(n):\n",
    "            for i in range(1, stacks_values[stack]+1):  \n",
    "                stacks_values[stack] =  stacks_values[stack] - i\n",
    "                beta = min(beta, alphabeta_move2(stacks_values, depth-1, alfa, beta, 1, end_time))\n",
    "                stacks_values[stack] =  stacks_values[stack] + i\n",
    "                if alfa >= beta or alfa == 1:\n",
    "                    break\n",
    "            if alfa >= beta or alfa == 1:\n",
    "                    break\n",
    "        return beta\n",
    "    else:\n",
    "        for stack in range(n):\n",
    "            for i in range(1, stacks_values[stack]+1):  \n",
    "                stacks_values[stack] =  stacks_values[stack] - i\n",
    "                alfa = max(alfa, alphabeta_move2(stacks_values, depth-1, alfa, beta, -1, end_time))\n",
    "                stacks_values[stack] =  stacks_values[stack] + i\n",
    "                if alfa >= beta or beta == -1:\n",
    "                    break\n",
    "            if alfa >= beta or beta == -1:\n",
    "                    break\n",
    "        return alfa\n",
    "    \n",
    "            \n"
   ]
  },
  {
   "cell_type": "code",
   "execution_count": 10,
   "id": "042ee9c6",
   "metadata": {},
   "outputs": [],
   "source": [
    "import random\n",
    "\n",
    "def random_move(stacks_values, time_for_move):\n",
    "    n = len(stacks_values)\n",
    "    while(True):\n",
    "        chosen_stack = random.randint(0, n-1)\n",
    "        if(stacks_values[chosen_stack] > 0):\n",
    "            val = random.randint(1, stacks_values[chosen_stack])\n",
    "            return chosen_stack,  val\n",
    "\n",
    "# Przykładowy przebieg rozgrywki\n",
    "def simulate_game():\n",
    "    stacks_values = list(map(int, stacks_values_widget.value.split()))\n",
    "    n = len(stacks_values)\n",
    "    empty_stack_counter = 0\n",
    "    player = 1\n",
    "    \n",
    "    if(bot1_Select.value == 'random'):\n",
    "        bot1_move = random_move\n",
    "    elif (bot1_Select.value == 'alfabeta'):\n",
    "        bot1_move = alphabeta_move\n",
    "    \n",
    "    if(bot2_Select.value == 'random'):\n",
    "        bot2_move = random_move\n",
    "    if(bot2_Select.value == 'alfabeta'):\n",
    "        bot2_move = alphabeta_move\n",
    "    \n",
    "\n",
    "    while(True):\n",
    "        print(stacks_values)\n",
    "        if(player == 1):\n",
    "            chosen_stack,  val =  bot1_move(stacks_values, time_for_move_widget.value)\n",
    "        else:\n",
    "            chosen_stack,  val =  bot2_move(stacks_values, time_for_move_widget.value)\n",
    "        \n",
    "        print(\"Player\", player, \"take\", val, \"from stack\", chosen_stack)\n",
    "        stacks_values[chosen_stack] = stacks_values[chosen_stack] - val\n",
    "        if(stacks_values[chosen_stack] == 0):\n",
    "            empty_stack_counter =  empty_stack_counter+1\n",
    "        player = 1 if player == 2 else 2\n",
    "        if(empty_stack_counter == n):\n",
    "            print(\"Player\", player, \"wins\")\n",
    "            break\n",
    "\n",
    "    "
   ]
  },
  {
   "cell_type": "code",
   "execution_count": 7,
   "id": "c3f7d77e",
   "metadata": {},
   "outputs": [],
   "source": [
    "from IPython.display import clear_output\n",
    "\n",
    "#Przycisk startu\n",
    "\n",
    "button = widgets.Button(\n",
    "    description='Start',\n",
    ")\n",
    "\n",
    "output = widgets.Output()\n",
    "\n",
    "def on_button_clicked(b):\n",
    "    with output:\n",
    "        clear_output(wait=True)\n",
    "        simulate_game()\n",
    "\n",
    "button.on_click(on_button_clicked)"
   ]
  },
  {
   "cell_type": "code",
   "execution_count": 8,
   "id": "158d7cfd",
   "metadata": {
    "scrolled": false
   },
   "outputs": [
    {
     "data": {
      "application/vnd.jupyter.widget-view+json": {
       "model_id": "c2d8489c9b6343a994d4e0a23fe03ae8",
       "version_major": 2,
       "version_minor": 0
      },
      "text/plain": [
       "Select(description='bot 1:', options=('random', 'alfabeta', 'MCTS', 'inny MCTS'), value='random')"
      ]
     },
     "metadata": {},
     "output_type": "display_data"
    },
    {
     "data": {
      "application/vnd.jupyter.widget-view+json": {
       "model_id": "b3b30176744747f28e00ce832e1d31de",
       "version_major": 2,
       "version_minor": 0
      },
      "text/plain": [
       "Select(description='bot 2:', options=('random', 'alfabeta', 'MCTS', 'inny MCTS'), value='random')"
      ]
     },
     "metadata": {},
     "output_type": "display_data"
    },
    {
     "data": {
      "application/vnd.jupyter.widget-view+json": {
       "model_id": "da2ce5f00719473bb5ce8fa03cc36ae6",
       "version_major": 2,
       "version_minor": 0
      },
      "text/plain": [
       "Text(value='', description='Wartości kolejnych stosów:', placeholder='Np. 10 10 10', style=DescriptionStyle(de…"
      ]
     },
     "metadata": {},
     "output_type": "display_data"
    },
    {
     "data": {
      "application/vnd.jupyter.widget-view+json": {
       "model_id": "cb14336921614fd9884a3658da7ccb25",
       "version_major": 2,
       "version_minor": 0
      },
      "text/plain": [
       "FloatText(value=2.0, description='Czas na ruch w sekundach:', style=DescriptionStyle(description_width='initia…"
      ]
     },
     "metadata": {},
     "output_type": "display_data"
    },
    {
     "data": {
      "application/vnd.jupyter.widget-view+json": {
       "model_id": "5c3376899b8c4469b7ad7e67c68b8b74",
       "version_major": 2,
       "version_minor": 0
      },
      "text/plain": [
       "Button(description='Start', style=ButtonStyle())"
      ]
     },
     "metadata": {},
     "output_type": "display_data"
    },
    {
     "data": {
      "application/vnd.jupyter.widget-view+json": {
       "model_id": "465d1ecae83843d3a2b3ec2f66f84def",
       "version_major": 2,
       "version_minor": 0
      },
      "text/plain": [
       "Output()"
      ]
     },
     "metadata": {},
     "output_type": "display_data"
    }
   ],
   "source": [
    "display(bot1_Select)\n",
    "display(bot2_Select)\n",
    "\n",
    "display(stacks_values_widget)\n",
    "display(time_for_move_widget)\n",
    "\n",
    "display(button, output)"
   ]
  },
  {
   "cell_type": "code",
   "execution_count": null,
   "id": "0e3f3563",
   "metadata": {},
   "outputs": [],
   "source": []
  },
  {
   "cell_type": "code",
   "execution_count": null,
   "id": "1c7b51ea",
   "metadata": {},
   "outputs": [],
   "source": []
  }
 ],
 "metadata": {
  "kernelspec": {
   "display_name": "Python 3 (ipykernel)",
   "language": "python",
   "name": "python3"
  },
  "language_info": {
   "codemirror_mode": {
    "name": "ipython",
    "version": 3
   },
   "file_extension": ".py",
   "mimetype": "text/x-python",
   "name": "python",
   "nbconvert_exporter": "python",
   "pygments_lexer": "ipython3",
   "version": "3.10.9"
  }
 },
 "nbformat": 4,
 "nbformat_minor": 5
}
